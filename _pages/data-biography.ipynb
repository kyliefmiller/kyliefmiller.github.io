{
 "cells": [
  {
   "cell_type": "markdown",
   "id": "d37e9d6f-2450-4f44-a819-0d773fb118e4",
   "metadata": {},
   "source": [
    "## Data Biography"
   ]
  },
  {
   "cell_type": "markdown",
   "id": "5a921208-1691-4ea2-a317-0dc2331dfd26",
   "metadata": {},
   "source": [
    "<div align=\"center\">\n",
    "  <img\n",
    "    src=\"../assets/img/test.jpeg\"\n",
    "    width=\"60%\"\n",
    "    style=\"border: 2px solid\"\n",
    "    alt=\"Description of image\"\n",
    "  />\n",
    "  <figcaption style=\"font-style: italic\">\n",
    "    Detailed description of what the image represents\n",
    "  </figcaption>\n",
    "</div>\n"
   ]
  },
  {
   "cell_type": "code",
   "execution_count": null,
   "id": "48866cf0-6297-43b0-bd17-3cd2f8894a10",
   "metadata": {},
   "outputs": [],
   "source": []
  }
 ],
 "metadata": {
  "kernelspec": {
   "display_name": "Python [conda env:base] *",
   "language": "python",
   "name": "conda-base-py"
  },
  "language_info": {
   "codemirror_mode": {
    "name": "ipython",
    "version": 3
   },
   "file_extension": ".py",
   "mimetype": "text/x-python",
   "name": "python",
   "nbconvert_exporter": "python",
   "pygments_lexer": "ipython3",
   "version": "3.12.7"
  }
 },
 "nbformat": 4,
 "nbformat_minor": 5
}
