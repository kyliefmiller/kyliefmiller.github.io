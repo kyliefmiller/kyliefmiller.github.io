{
 "cells": [
  {
   "cell_type": "markdown",
   "id": "d37e9d6f-2450-4f44-a819-0d773fb118e4",
   "metadata": {},
   "source": [
    "# Data Biography\n",
    "## *History Colorado's KKK Ledgers*"
   ]
  },
  {
   "cell_type": "code",
   "execution_count": 170,
   "id": "48866cf0-6297-43b0-bd17-3cd2f8894a10",
   "metadata": {},
   "outputs": [],
   "source": [
    "    #This analyzes a History Colorado dataset that needs to be imported for analysis\n",
    "import pandas as pd\n",
    "kkk_df = pd.read_csv('kkk-ledgers-index.csv', delimiter=\",\", low_memory=False)"
   ]
  },
  {
   "cell_type": "markdown",
   "id": "4c09b902-6583-4243-b3b6-fc2f9830d4ef",
   "metadata": {},
   "source": [
    "### Introduction\n",
    "In 2021, History Colorado (formerly the Colorado Historical Society) digitized and advertised what it described as “membership books” for the Ku Klux Klan (KKK). The KKK is a white supremacist group in the United States that gained particular popularity in the 1920s in Colorado, even being represented by people in prominent elected government positions. While there is no confirmed date connected to ledgers, they are estimated to have been in use between 1920-1930, more specifically between 1924-1926. They seem to mainly focus on the Denver area, though there is also no defined geographic scope."
   ]
  },
  {
   "cell_type": "markdown",
   "id": "5d60ffed-e5b7-41c4-ac44-18fc68652b8e",
   "metadata": {},
   "source": [
    "### Creating the Dataset\n",
    "As we will see repeatedly, these two ledgers were created for vastly different purposes. The first ledger documents membership applications, including information such as names, dues payments, and when people became naturalized as Klan members. **Therefore, from now on, this ledger will be referred to as the “application ledger.”**"
   ]
  },
  {
   "cell_type": "markdown",
   "id": "5a921208-1691-4ea2-a317-0dc2331dfd26",
   "metadata": {},
   "source": [
    "<div align=\"center\">\n",
    "  <img\n",
    "    src=\"../assets/img/application_ledger.png\"\n",
    "    width=\"40%\"\n",
    "    style=\"border: 2px solid\"\n",
    "    alt=\"application ledger page\"\n",
    "  />\n",
    "  <figcaption style=\"font-style: italic\">\n",
    "    Page from the \"Application Ledger\"\n",
    "  </figcaption>\n",
    "</div>\n"
   ]
  },
  {
   "cell_type": "markdown",
   "id": "7c1389e3-33a0-4f05-bb2e-c18c1fee014c",
   "metadata": {},
   "source": [
    "The other ledger focuses more on documenting basic information about members like their names and addresses. **Therefore, from now on, this ledger will be referred to as the “directory ledger.”**"
   ]
  },
  {
   "cell_type": "markdown",
   "id": "d2a313e5-61e2-4261-a920-db11a632ccca",
   "metadata": {},
   "source": [
    "<div align=\"center\">\n",
    "  <img\n",
    "    src=\"../assets/img/directory_ledger.png\"\n",
    "    width=\"40%\"\n",
    "    style=\"border: 2px solid\"\n",
    "    alt=\"directory ledger page\"\n",
    "  />\n",
    "  <figcaption style=\"font-style: italic\">\n",
    "    Page from the \"Directory Ledger\"\n",
    "  </figcaption>\n",
    "</div>\n"
   ]
  },
  {
   "cell_type": "markdown",
   "id": "5e09cecd-7224-4795-b3ec-6c37552b8323",
   "metadata": {},
   "source": [
    "Both ledgers include various handwritten annotations and symbols, many of which with undefined meanings. Such annotations mean that there is a wide variety in the data collected within the ledgers despite the attempt at standardization through the premade columns of the ledger book. Also, not all columns were always filled in, creating gaps in the data."
   ]
  },
  {
   "cell_type": "markdown",
   "id": "f20d6f99-94ee-4cf5-b641-73015017ced1",
   "metadata": {},
   "source": [
    "These ledgers were donated to History Colorado in Denver in 1946 by an anonymous donor from the Rocky Mountain News, though to protect privacy records, they were restricted to the public until 1990. Later, History Colorado underwent a digitization process in 2021 to make these ledgers easily accessible to the public. Now, through [History Colorado’s website](https://www.historycolorado.org/kkkledgers), one can access this data in many forms, including PDF images of the original ledgers, an interactive map using the address data from the ledgers, and a spreadsheet index that compiled information from the ledgers. In creating the spreadsheet index, History Colorado used Optical Character Recognition (OCR) technology, a process they acknowledge has some imperfections despite their extensive checks on the results. The variety of mediums not only helps people access the data through a variety of lenses but also gives those analyzing the data many ways to check data and come to conclusions.\n"
   ]
  },
  {
   "cell_type": "markdown",
   "id": "6e9f914c-3f2b-4c81-bf6e-820ffacbb6d3",
   "metadata": {},
   "source": [
    "It is also important to note the context with which History Colorado digitized and advertised this information. Coinciding with racial reckoning in the United States throughout 2020, History Colorado’s digitization of this data was part of an effort to “actively name and confront systems of inequality.” The emphasis throughout the dataset and the website’s tools and instructions on names and addresses reflects these goals as, rather than erasing Colorado’s racist history, they show the prominence of the KKK in the Denver area. This is also a way to make confronting Colorado’s racist past a personal experience for people, who may potentially use the tools to search for relatives or see the past prominence of the KKK in their area. "
   ]
  },
  {
   "cell_type": "markdown",
   "id": "3cee202c-c581-42b8-ba4b-554684351fb8",
   "metadata": {},
   "source": [
    "### What does the data show?\n",
    "That said, as with all datasets, this reduces KKK membership to names and addresses without the accompanying stories. What was it like for people to be a member of the KKK at this time? How did this large membership impact marginalized groups? As all knowledge is situated, the answers provide essential context to truly analyze the ledgers, yet these questions cannot be answered through the dataset itself."
   ]
  },
  {
   "cell_type": "code",
   "execution_count": 180,
   "id": "57967cde-7ae1-4759-8d63-8874d46121bc",
   "metadata": {},
   "outputs": [
    {
     "name": "stdout",
     "output_type": "stream",
     "text": [
      "<class 'pandas.core.frame.DataFrame'>\n",
      "RangeIndex: 29635 entries, 0 to 29634\n",
      "Data columns (total 34 columns):\n",
      " #   Column                  Non-Null Count  Dtype  \n",
      "---  ------                  --------------  -----  \n",
      " 0   itemID                  29635 non-null  object \n",
      " 1   Number                  29633 non-null  float64\n",
      " 2   fullName                29635 non-null  object \n",
      " 3   Prefix                  174 non-null    object \n",
      " 4   Last Name               29634 non-null  object \n",
      " 5   First Name              29631 non-null  object \n",
      " 6   Middle Name             26267 non-null  object \n",
      " 7   Suffix                  357 non-null    object \n",
      " 8   residenceAddress1       14921 non-null  object \n",
      " 9   residenceAddress2       433 non-null    object \n",
      " 10  Residence Address       15334 non-null  object \n",
      " 11  Residence Other         868 non-null    object \n",
      " 12  residenceCity           15649 non-null  object \n",
      " 13  residenceState          15649 non-null  object \n",
      " 14  Residence City & State  15651 non-null  object \n",
      " 15  residencePhone          8682 non-null   object \n",
      " 16  businessAddress1        6769 non-null   object \n",
      " 17  businessAddress2        1309 non-null   object \n",
      " 18  Business Address        7080 non-null   object \n",
      " 19  Business Other          5898 non-null   object \n",
      " 20  businessCity            6438 non-null   object \n",
      " 21  businessState           6436 non-null   object \n",
      " 22  Business City & State   6438 non-null   object \n",
      " 23  businessPhone           7361 non-null   object \n",
      " 24  ledger                  29635 non-null  object \n",
      " 25  link                    29635 non-null  object \n",
      " 26  Ledger Link             29635 non-null  object \n",
      " 27  Page                    29635 non-null  int64  \n",
      " 28  pdfFileName             29635 non-null  object \n",
      " 29  symbolExists            29635 non-null  bool   \n",
      " 30  sNumber                 29635 non-null  bool   \n",
      " 31  sErased                 29635 non-null  bool   \n",
      " 32  Notes & Remarks         1418 non-null   object \n",
      " 33  Column 29               1 non-null      object \n",
      "dtypes: bool(3), float64(1), int64(1), object(29)\n",
      "memory usage: 7.1+ MB\n"
     ]
    }
   ],
   "source": [
    "    #Instead, this is the data that we see\n",
    "kkk_df.info()"
   ]
  },
  {
   "cell_type": "markdown",
   "id": "2481bd85-6ec4-40a4-92e0-9860c06249e2",
   "metadata": {},
   "source": [
    "\n",
    "Note that this list of data included in this dataset shows that the directory ledger was the template for creating the dataset, as much of the data shown, like addresses, was not collected in the application ledger. Also, categories like \"sNumber\" refer specifically to the directory ledger. That said, it is valuable that the dataset worked to include some of the written annotations like symbols, as this lets them be analyzed. However, this also means that potentially valuable information from the first dataset, like dues payments, cannot be analyzed through the dataset."
   ]
  },
  {
   "cell_type": "markdown",
   "id": "7a452955-7f2a-497d-9b90-cfd60702d49f",
   "metadata": {},
   "source": [
    "<div align=\"center\">\n",
    "  <img\n",
    "    src=\"../assets/img/snumber.png\"\n",
    "    width=\"10%\"\n",
    "    style=\"border: 2px solid\"\n",
    "    alt=\"The \"S\" annotation in the number column representing the \"sNumber\" category\"\n",
    "  />\n",
    "  <figcaption style=\"font-style: italic\">\n",
    "    The \"S\" annotation in the number column representing the \"sNumber\" category\n",
    "  </figcaption>\n",
    "</div>\n"
   ]
  },
  {
   "cell_type": "markdown",
   "id": "929b1de3-6203-4a47-a4ba-6a43547fec1c",
   "metadata": {},
   "source": [
    "This reveals a key concern about the dataset: that it was created combining two sets of data that were created for very different reasons. History Colorado lumps the two ledgers into the category of “membership books” to justify their combination into one dataset, but assuming sameness is a problematic way to address different datasets. ***Combining the datasets aligned with their goals to represent the prominence of the KKK in Denver, but it leaves opportunities for misrepresentation of the data.***"
   ]
  },
  {
   "cell_type": "markdown",
   "id": "b1dc4e76-bd8d-49e9-9437-641337e986da",
   "metadata": {},
   "source": [
    "### Double Counting\n",
    "The main issue that this causes is the existence of double counting people’s KKK membership by including both their application data and directory data. "
   ]
  },
  {
   "cell_type": "code",
   "execution_count": 185,
   "id": "cf089254-fce5-45ee-8d84-cfc2f9cc9d04",
   "metadata": {
    "scrolled": true
   },
   "outputs": [
    {
     "data": {
      "text/plain": [
       "fullName\n",
       "False    19715\n",
       "True      9920\n",
       "Name: count, dtype: int64"
      ]
     },
     "execution_count": 185,
     "metadata": {},
     "output_type": "execute_result"
    }
   ],
   "source": [
    "    #How many duplicate names exist in the dataset?\n",
    "kkk_df['fullName'].duplicated(keep=False).value_counts()"
   ]
  },
  {
   "cell_type": "code",
   "execution_count": 186,
   "id": "90624740-ae51-404a-ad5c-34a5e1aea072",
   "metadata": {},
   "outputs": [
    {
     "data": {
      "text/plain": [
       "fullName\n",
       "False    0.665261\n",
       "True     0.334739\n",
       "Name: proportion, dtype: float64"
      ]
     },
     "execution_count": 186,
     "metadata": {},
     "output_type": "execute_result"
    }
   ],
   "source": [
    "    #What is the percentage of duplicated names in the dataset?\n",
    "kkk_df['fullName'].duplicated(keep=False).value_counts(normalize=True)"
   ]
  },
  {
   "cell_type": "markdown",
   "id": "ee0f15eb-eb02-4eb7-aa97-1aa69d28050d",
   "metadata": {},
   "source": [
    "This shows that of the 29635 entries, about 33% were duplicate names. Of course, there could have been some people with the same name, but this is likely due to some people being in both the application ledger *and* the directory ledger."
   ]
  },
  {
   "cell_type": "code",
   "execution_count": 188,
   "id": "164e7637-7e38-4619-9af9-51cf380855b4",
   "metadata": {},
   "outputs": [],
   "source": [
    "    #However, I will also check individiually within the ledgers how many duplicate entries there were.\n",
    "application_filter = kkk_df['Ledger Link'] == \"MSS.366.4\"\n",
    "directory_filter = kkk_df['Ledger Link'] == \"MSS.366.5\"\n",
    "application_df = kkk_df[application_filter]\n",
    "directory_df = kkk_df[directory_filter]"
   ]
  },
  {
   "cell_type": "code",
   "execution_count": 189,
   "id": "d52dbd67-dea8-4b2b-9554-5c9dd42bf4bf",
   "metadata": {},
   "outputs": [
    {
     "data": {
      "text/plain": [
       "fullName\n",
       "False    12636\n",
       "True       262\n",
       "Name: count, dtype: int64"
      ]
     },
     "execution_count": 189,
     "metadata": {},
     "output_type": "execute_result"
    }
   ],
   "source": [
    "    #How many duplicated in the application dataset?\n",
    "application_df['fullName'].duplicated(keep=False).value_counts()"
   ]
  },
  {
   "cell_type": "code",
   "execution_count": 190,
   "id": "a455f180-7add-460a-aa2d-d015f3acf46e",
   "metadata": {},
   "outputs": [
    {
     "data": {
      "text/plain": [
       "fullName\n",
       "False    0.979687\n",
       "True     0.020313\n",
       "Name: proportion, dtype: float64"
      ]
     },
     "execution_count": 190,
     "metadata": {},
     "output_type": "execute_result"
    }
   ],
   "source": [
    "    #What is this percentage?\n",
    "application_df['fullName'].duplicated(keep=False).value_counts(normalize=True)"
   ]
  },
  {
   "cell_type": "code",
   "execution_count": 191,
   "id": "2f96c5ba-0289-4d13-a08c-5afc1e694b2e",
   "metadata": {},
   "outputs": [
    {
     "data": {
      "text/plain": [
       "fullName\n",
       "False    16591\n",
       "True       146\n",
       "Name: count, dtype: int64"
      ]
     },
     "execution_count": 191,
     "metadata": {},
     "output_type": "execute_result"
    }
   ],
   "source": [
    "    #How many duplicated in the directory dataset?\n",
    "directory_df['fullName'].duplicated(keep=False).value_counts()"
   ]
  },
  {
   "cell_type": "code",
   "execution_count": 192,
   "id": "01260534-143c-49b7-8207-ea0622e29973",
   "metadata": {},
   "outputs": [
    {
     "data": {
      "text/plain": [
       "fullName\n",
       "False    0.991277\n",
       "True     0.008723\n",
       "Name: proportion, dtype: float64"
      ]
     },
     "execution_count": 192,
     "metadata": {},
     "output_type": "execute_result"
    }
   ],
   "source": [
    "    #What is this percentage?\n",
    "directory_df['fullName'].duplicated(keep=False).value_counts(normalize=True)"
   ]
  },
  {
   "cell_type": "markdown",
   "id": "993d867d-9f8a-47c1-a57e-b7a0174745b2",
   "metadata": {},
   "source": [
    "Having only 2% and 0.8% of entries being duplicates within the individual ledgers shows that the dataset double counts people who were part of the application ledger and then also part of the directory ledger. This would therefore inflate membership numbers if people used this dataset to simply show KKK membership numbers at this time. "
   ]
  },
  {
   "cell_type": "markdown",
   "id": "3be0e57e-b9b0-434b-8305-705c863edc74",
   "metadata": {},
   "source": [
    "This also begs the question of why not all of the names in the application ledger were included in the directory, because if everybody was transferred from their application to the directory, there would be nearly 13,000 duplicates rather than the around 10,000 that exist. "
   ]
  },
  {
   "cell_type": "markdown",
   "id": "d65c6604-1c1c-4ab0-89a5-88f357495aef",
   "metadata": {},
   "source": [
    "<div align=\"center\">\n",
    "  <img\n",
    "    src=\"../assets/img/rejected.png\"\n",
    "    width=\"40%\"\n",
    "    style=\"border: 2px solid\"\n",
    "    alt=\"annotations noting a rejected applicant\"\n",
    "  />\n",
    "  <figcaption style=\"font-style: italic\">\n",
    "    Annotations noting rejected applicants\n",
    "  </figcaption>\n",
    "</div>"
   ]
  },
  {
   "cell_type": "code",
   "execution_count": 196,
   "id": "64cde9e5-bc1f-4493-b951-74c98fab14fd",
   "metadata": {},
   "outputs": [
    {
     "data": {
      "text/plain": [
       "Notes & Remarks\n",
       "False    423\n",
       "True     388\n",
       "Name: count, dtype: int64"
      ]
     },
     "execution_count": 196,
     "metadata": {},
     "output_type": "execute_result"
    }
   ],
   "source": [
    "    #When looking at the PDF of the application ledger, there are instances where it is noted that an applicant was rejected. \n",
    "    #check to see how many of those listed in application ledger were rejected\n",
    "application_df['Notes & Remarks'].str.contains('Reject').value_counts()   "
   ]
  },
  {
   "cell_type": "markdown",
   "id": "ac990bfd-0296-4c11-9224-f9bd15e54cce",
   "metadata": {},
   "source": [
    "Since only 388 were noted as being rejected, this does not account for the 3000 people that do not seem to be in both the application ledger and the directory ledger. Regardless, this emphasizes the difficulties of treating two different data sets as equal."
   ]
  },
  {
   "cell_type": "markdown",
   "id": "78892e3c-c48b-4201-8c49-2a4aa524e218",
   "metadata": {},
   "source": [
    "### Member vs. Nonmember Binary\n",
    "The concept of rejection also addresses another problematic assumption about the dataset - the binary of somebody being either a “member” or “not a member” of the KKK through existence in the dataset. However, this does not take into account the nuances of membership, not only including rejections but also resignations and statuses like “banished” that appear in the ledger annotations. "
   ]
  },
  {
   "cell_type": "markdown",
   "id": "4ae6f4c5-9cda-4301-86be-d0f503c48caf",
   "metadata": {},
   "source": [
    "<div align=\"center\">\n",
    "  <img\n",
    "    src=\"../assets/img/banished.png\"\n",
    "    width=\"40%\"\n",
    "    style=\"border: 2px solid\"\n",
    "    alt=\"Description of image\"\n",
    "</div>\n"
   ]
  },
  {
   "cell_type": "markdown",
   "id": "6826747f-464b-4fe9-ac87-76b29d300d49",
   "metadata": {},
   "source": [
    "<div align=\"center\">\n",
    "  <img\n",
    "    src=\"../assets/img/suspended.png\"\n",
    "    width=\"50%\"\n",
    "    style=\"border: 2px solid\"\n",
    "    alt=\"suspended annotation\"\n",
    "  />\n",
    "</div>"
   ]
  },
  {
   "cell_type": "markdown",
   "id": "b6eda5f2-a52c-44fa-b5ad-21b9543f8262",
   "metadata": {},
   "source": [
    "<div align=\"center\">\n",
    "  <img\n",
    "    src=\"../assets/img/resigned.png\"\n",
    "    width=\"50%\"\n",
    "    style=\"border: 2px solid\"\n",
    "    alt=\"resigned annotation\"\n",
    "  />\n",
    "  <figcaption style=\"font-style: italic\">\n",
    "    Examples of \"Banished,\" \"Suspended,\" and \"Resigned\" annotations\n",
    "  </figcaption>\n",
    "</div>"
   ]
  },
  {
   "cell_type": "code",
   "execution_count": 202,
   "id": "6ef91a11-fb0d-4270-bd9b-550f08139f49",
   "metadata": {},
   "outputs": [
    {
     "data": {
      "text/plain": [
       "Notes & Remarks\n",
       "False    577\n",
       "True      30\n",
       "Name: count, dtype: int64"
      ]
     },
     "execution_count": 202,
     "metadata": {},
     "output_type": "execute_result"
    }
   ],
   "source": [
    "    #check to see how many people were noted as resigned\n",
    "directory_df['Notes & Remarks'].str.contains('Resigned').value_counts()"
   ]
  },
  {
   "cell_type": "code",
   "execution_count": 203,
   "id": "1ff03da2-c67a-43ff-a915-55718f7fc2da",
   "metadata": {},
   "outputs": [
    {
     "data": {
      "text/html": [
       "<div>\n",
       "<style scoped>\n",
       "    .dataframe tbody tr th:only-of-type {\n",
       "        vertical-align: middle;\n",
       "    }\n",
       "\n",
       "    .dataframe tbody tr th {\n",
       "        vertical-align: top;\n",
       "    }\n",
       "\n",
       "    .dataframe thead th {\n",
       "        text-align: right;\n",
       "    }\n",
       "</style>\n",
       "<table border=\"1\" class=\"dataframe\">\n",
       "  <thead>\n",
       "    <tr style=\"text-align: right;\">\n",
       "      <th></th>\n",
       "      <th>itemID</th>\n",
       "      <th>Number</th>\n",
       "      <th>fullName</th>\n",
       "      <th>Prefix</th>\n",
       "      <th>Last Name</th>\n",
       "      <th>First Name</th>\n",
       "      <th>Middle Name</th>\n",
       "      <th>Suffix</th>\n",
       "      <th>residenceAddress1</th>\n",
       "      <th>residenceAddress2</th>\n",
       "      <th>...</th>\n",
       "      <th>ledger</th>\n",
       "      <th>link</th>\n",
       "      <th>Ledger Link</th>\n",
       "      <th>Page</th>\n",
       "      <th>pdfFileName</th>\n",
       "      <th>symbolExists</th>\n",
       "      <th>sNumber</th>\n",
       "      <th>sErased</th>\n",
       "      <th>Notes &amp; Remarks</th>\n",
       "      <th>Column 29</th>\n",
       "    </tr>\n",
       "  </thead>\n",
       "  <tbody>\n",
       "    <tr>\n",
       "      <th>1482</th>\n",
       "      <td>K01483</td>\n",
       "      <td>2481.0</td>\n",
       "      <td>Carl S Homsher</td>\n",
       "      <td>NaN</td>\n",
       "      <td>Homsher</td>\n",
       "      <td>Carl</td>\n",
       "      <td>S</td>\n",
       "      <td>NaN</td>\n",
       "      <td>1540 Monroe</td>\n",
       "      <td>NaN</td>\n",
       "      <td>...</td>\n",
       "      <td>MSS.366.5</td>\n",
       "      <td>h-co.org/ledger2</td>\n",
       "      <td>MSS.366.5</td>\n",
       "      <td>70</td>\n",
       "      <td>mss366-5_FC-p74_QC</td>\n",
       "      <td>True</td>\n",
       "      <td>False</td>\n",
       "      <td>False</td>\n",
       "      <td>Name struck; \"RESIGNED-OCT-1925\"</td>\n",
       "      <td>NaN</td>\n",
       "    </tr>\n",
       "  </tbody>\n",
       "</table>\n",
       "<p>1 rows × 34 columns</p>\n",
       "</div>"
      ],
      "text/plain": [
       "      itemID  Number        fullName Prefix Last Name First Name Middle Name  \\\n",
       "1482  K01483  2481.0  Carl S Homsher    NaN   Homsher       Carl           S   \n",
       "\n",
       "     Suffix residenceAddress1 residenceAddress2  ...     ledger  \\\n",
       "1482    NaN       1540 Monroe               NaN  ...  MSS.366.5   \n",
       "\n",
       "                  link Ledger Link Page         pdfFileName symbolExists  \\\n",
       "1482  h-co.org/ledger2   MSS.366.5   70  mss366-5_FC-p74_QC         True   \n",
       "\n",
       "     sNumber sErased                   Notes & Remarks Column 29  \n",
       "1482   False   False  Name struck; \"RESIGNED-OCT-1925\"       NaN  \n",
       "\n",
       "[1 rows x 34 columns]"
      ]
     },
     "execution_count": 203,
     "metadata": {},
     "output_type": "execute_result"
    }
   ],
   "source": [
    "    #However, I found 30 resigned by page 65 out of 741. A brief scroll showed there were definitely more.\n",
    "    #Look up Carl S Homsher to see his notes and remarks to double check the accuracy\n",
    "directory_df[directory_df['fullName'] == 'Carl S Homsher']"
   ]
  },
  {
   "cell_type": "code",
   "execution_count": 204,
   "id": "1bbc2a77-f9aa-47a0-a372-c9a8f9ad2755",
   "metadata": {},
   "outputs": [
    {
     "data": {
      "text/plain": [
       "Notes & Remarks\n",
       "False    423\n",
       "True     184\n",
       "Name: count, dtype: int64"
      ]
     },
     "execution_count": 204,
     "metadata": {},
     "output_type": "execute_result"
    }
   ],
   "source": [
    "    #Realized that it will be case sensitive, which makes more sense as to why I could not see more\n",
    "directory_df['Notes & Remarks'].str.contains('RESIGNED').value_counts()"
   ]
  },
  {
   "cell_type": "code",
   "execution_count": 205,
   "id": "92ea5a00-e626-445c-b2e2-d47acbdb7a27",
   "metadata": {},
   "outputs": [
    {
     "data": {
      "text/html": [
       "<div>\n",
       "<style scoped>\n",
       "    .dataframe tbody tr th:only-of-type {\n",
       "        vertical-align: middle;\n",
       "    }\n",
       "\n",
       "    .dataframe tbody tr th {\n",
       "        vertical-align: top;\n",
       "    }\n",
       "\n",
       "    .dataframe thead th {\n",
       "        text-align: right;\n",
       "    }\n",
       "</style>\n",
       "<table border=\"1\" class=\"dataframe\">\n",
       "  <thead>\n",
       "    <tr style=\"text-align: right;\">\n",
       "      <th></th>\n",
       "      <th>itemID</th>\n",
       "      <th>Number</th>\n",
       "      <th>fullName</th>\n",
       "      <th>Prefix</th>\n",
       "      <th>Last Name</th>\n",
       "      <th>First Name</th>\n",
       "      <th>Middle Name</th>\n",
       "      <th>Suffix</th>\n",
       "      <th>residenceAddress1</th>\n",
       "      <th>residenceAddress2</th>\n",
       "      <th>...</th>\n",
       "      <th>ledger</th>\n",
       "      <th>link</th>\n",
       "      <th>Ledger Link</th>\n",
       "      <th>Page</th>\n",
       "      <th>pdfFileName</th>\n",
       "      <th>symbolExists</th>\n",
       "      <th>sNumber</th>\n",
       "      <th>sErased</th>\n",
       "      <th>Notes &amp; Remarks</th>\n",
       "      <th>Column 29</th>\n",
       "    </tr>\n",
       "  </thead>\n",
       "  <tbody>\n",
       "    <tr>\n",
       "      <th>1551</th>\n",
       "      <td>K01552</td>\n",
       "      <td>2550.0</td>\n",
       "      <td>L M Jones</td>\n",
       "      <td>NaN</td>\n",
       "      <td>Jones</td>\n",
       "      <td>L</td>\n",
       "      <td>M</td>\n",
       "      <td>NaN</td>\n",
       "      <td>3456 West 32nd Ave</td>\n",
       "      <td>NaN</td>\n",
       "      <td>...</td>\n",
       "      <td>MSS.366.5</td>\n",
       "      <td>h-co.org/ledger2</td>\n",
       "      <td>MSS.366.5</td>\n",
       "      <td>73</td>\n",
       "      <td>mss366-5_FC-p74_QC</td>\n",
       "      <td>False</td>\n",
       "      <td>True</td>\n",
       "      <td>False</td>\n",
       "      <td>NaN</td>\n",
       "      <td>NaN</td>\n",
       "    </tr>\n",
       "  </tbody>\n",
       "</table>\n",
       "<p>1 rows × 34 columns</p>\n",
       "</div>"
      ],
      "text/plain": [
       "      itemID  Number   fullName Prefix Last Name First Name Middle Name  \\\n",
       "1551  K01552  2550.0  L M Jones    NaN     Jones          L           M   \n",
       "\n",
       "     Suffix   residenceAddress1 residenceAddress2  ...     ledger  \\\n",
       "1551    NaN  3456 West 32nd Ave               NaN  ...  MSS.366.5   \n",
       "\n",
       "                  link Ledger Link Page         pdfFileName symbolExists  \\\n",
       "1551  h-co.org/ledger2   MSS.366.5   73  mss366-5_FC-p74_QC        False   \n",
       "\n",
       "     sNumber sErased Notes & Remarks Column 29  \n",
       "1551    True   False             NaN       NaN  \n",
       "\n",
       "[1 rows x 34 columns]"
      ]
     },
     "execution_count": 205,
     "metadata": {},
     "output_type": "execute_result"
    }
   ],
   "source": [
    "    #I also wanted to check the notation of somebody who had a strike through their name but no annotations\n",
    "directory_df[directory_df['fullName'] == 'L M Jones']"
   ]
  },
  {
   "cell_type": "markdown",
   "id": "4ab7b2bc-7a1a-4331-83db-60a7039795dc",
   "metadata": {},
   "source": [
    "While around 200 resignations is not a significant portion of the membership, it is important to note that there are nuances in membership. Not only that, but the previous code also reveals that there is no note in the dataset about people whose names were struck out with no explanation, something else that implies nuance in the data that cannot be analyzed simply through the dataset."
   ]
  },
  {
   "cell_type": "markdown",
   "id": "9f2b984c-1943-4d33-a844-a61a90692fc6",
   "metadata": {},
   "source": [
    "In general, a person’s presence in the data assigns a certain equal meaning to being a “member” of the KKK. This data therefore misses the nuances and the stories associated with Colorado’s KKK membership in the 1920s. This is exacerbated by the fact that there is very little year data associated with the dataset. While we can see some members resigning, there is also no way to tell for how long people were members of the organization or track patterns in membership."
   ]
  },
  {
   "cell_type": "markdown",
   "id": "ee734270-cc3d-4c17-bd13-689e18618b84",
   "metadata": {},
   "source": [
    "The lack of demographic data, including one’s occupation, class, or age, eliminates more of the nuance of this story. (Of course, it is already notable that the ledger only includes men, therefore implying a male-only organization despite the involvement of women - another instance of data erasing stories.) While demographic data comes with its own complications and “cooking” of data, this provides a hole in the stories that can be told from the data."
   ]
  },
  {
   "cell_type": "markdown",
   "id": "5324613a-795b-4817-8aaf-6b1bfb5f975e",
   "metadata": {},
   "source": [
    "### Geographic Limitations\n",
    "Another area for misinterpretation of this data is the geographic scope, particularly with respect to how History Colorado presented the data in their map. Annotations indicating a person had been “demitted” to places like Pueblo and Greeley imply that the ledgers were more geographically centered in the Denver area. However, History Colorado’s map has data in all parts of the state, prompting users to “explore how they [the KKK] were spread across the state.” This could lead to people drawing conclusions on the particular prominence of the KKK in Denver, while in actuality it seems that the ledgers themselves were focused there."
   ]
  },
  {
   "cell_type": "markdown",
   "id": "48403a3d-6ef6-4cc8-ad04-2cdaf283c601",
   "metadata": {},
   "source": [
    "<div align=\"center\">\n",
    "  <img\n",
    "    src=\"../assets/img/map.png\"\n",
    "    width=\"40%\"\n",
    "    style=\"border: 2px solid\"\n",
    "    alt=\"history colorado's map\"\n",
    "  />\n",
    "  <figcaption style=\"font-style: italic\">\n",
    "    History Colorado's map showing statewide membership locations\n",
    "  </figcaption>\n",
    "</div>"
   ]
  },
  {
   "cell_type": "markdown",
   "id": "75289768-453b-442e-9b67-f13cb8a02ccf",
   "metadata": {},
   "source": [
    "Additionally, History Colorado does not note that many of the ledger entries did not include address information."
   ]
  },
  {
   "cell_type": "code",
   "execution_count": 212,
   "id": "099e89b1-44b1-4d9a-958f-3e86d5696c34",
   "metadata": {},
   "outputs": [
    {
     "data": {
      "text/plain": [
       "residenceAddress1\n",
       "False    14921\n",
       "True     14714\n",
       "Name: count, dtype: int64"
      ]
     },
     "execution_count": 212,
     "metadata": {},
     "output_type": "execute_result"
    }
   ],
   "source": [
    "    #How many entries did not include addresses?\n",
    "kkk_df['residenceAddress1'].isna().value_counts()"
   ]
  },
  {
   "cell_type": "code",
   "execution_count": 213,
   "id": "bc8d65ef-e960-4de5-8a96-d467d3332bd8",
   "metadata": {
    "scrolled": true
   },
   "outputs": [
    {
     "data": {
      "text/plain": [
       "residenceAddress1\n",
       "True    12898\n",
       "Name: count, dtype: int64"
      ]
     },
     "execution_count": 213,
     "metadata": {},
     "output_type": "execute_result"
    }
   ],
   "source": [
    "    #Was there any address info included in the application ledger?\n",
    "application_df['residenceAddress1'].isna().value_counts()"
   ]
  },
  {
   "cell_type": "markdown",
   "id": "607f4aa2-b98d-44db-9517-c43b99ee6f33",
   "metadata": {},
   "source": [
    "The answer? No."
   ]
  },
  {
   "cell_type": "code",
   "execution_count": 215,
   "id": "412473bb-b747-4366-9366-fec88e72d297",
   "metadata": {},
   "outputs": [
    {
     "data": {
      "text/plain": [
       "residenceAddress1\n",
       "False    14921\n",
       "True      1816\n",
       "Name: count, dtype: int64"
      ]
     },
     "execution_count": 215,
     "metadata": {},
     "output_type": "execute_result"
    }
   ],
   "source": [
    "    #How much address info was missing in the directory?\n",
    "directory_df['residenceAddress1'].isna().value_counts()"
   ]
  },
  {
   "cell_type": "code",
   "execution_count": 216,
   "id": "9f5bb57f-8deb-4225-af36-cdfeb9b64ca1",
   "metadata": {},
   "outputs": [
    {
     "data": {
      "text/plain": [
       "residenceAddress1\n",
       "False    0.891498\n",
       "True     0.108502\n",
       "Name: proportion, dtype: float64"
      ]
     },
     "execution_count": 216,
     "metadata": {},
     "output_type": "execute_result"
    }
   ],
   "source": [
    "    #What was the percentage of missing addresses in the directory?\n",
    "directory_df['residenceAddress1'].isna().value_counts(normalize=True)"
   ]
  },
  {
   "cell_type": "markdown",
   "id": "00c641c0-6e9f-437a-b42e-1073a2006194",
   "metadata": {},
   "source": [
    "Therefore, even 11% of the entries in the directory ledger did not have address data, meaning using the map to show distribution even within Denver itself is a problematic exercise, as many people did not provide address information."
   ]
  },
  {
   "cell_type": "markdown",
   "id": "83b43008-eec4-4f21-b525-1c608247c162",
   "metadata": {},
   "source": [
    "### Conclusion\n",
    "While it is valuable to confront Colorado’s racist past and history with the KKK, one should approach the data included in History Colorado’s digitized KKK ledgers with caution. While the KKK was certainly a prominent organization in Colorado in the 1920s, the ledgers do not tell the story of this experience, only showing membership without context as to what this membership meant. Not only that, but combining the two ledgers into a single dataset misrepresents the data, inflating numbers and assuming commonalities between data collected for vastly different purposes."
   ]
  }
 ],
 "metadata": {
  "kernelspec": {
   "display_name": "Python [conda env:base] *",
   "language": "python",
   "name": "conda-base-py"
  },
  "language_info": {
   "codemirror_mode": {
    "name": "ipython",
    "version": 3
   },
   "file_extension": ".py",
   "mimetype": "text/x-python",
   "name": "python",
   "nbconvert_exporter": "python",
   "pygments_lexer": "ipython3",
   "version": "3.12.7"
  }
 },
 "nbformat": 4,
 "nbformat_minor": 5
}
